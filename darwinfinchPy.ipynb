{
 "cells": [
  {
   "cell_type": "markdown",
   "metadata": {},
   "source": [
    "# Projeto: Tentilhões de Darwin\n",
    "\n",
    "Nesse projeto utilizarei dados de um lugar que contribuiram para a Teoria da Evolução de Charles Darwin, no qual foram coletados no arquipélago de Galapagos, particularmente no estudos de pequenos pássaros que habitam esse lugar, chamados tentilhões!   "
   ]
  },
  {
   "cell_type": "markdown",
   "metadata": {},
   "source": [
    "![](Charles_Darwin_1880.jpg)"
   ]
  },
  {
   "cell_type": "markdown",
   "metadata": {},
   "source": [
    "Ilhas são ideais para estudos relacionados a evolução pelo fato de serem isoladas, logo as espécies que habitam esses lugares estão livres de efeitos das interações complicadas que podem ocorrer com outras espécies, incluindo os humanos.\n",
    "\n",
    "Desde de 1973, Peter and Rosemary Grant da Universidade de Princetown tem passado muitos meses do ano na minúscula ilha vulcânica Daphne Major nas Ilhas Galapagos."
   ]
  },
  {
   "cell_type": "markdown",
   "metadata": {},
   "source": [
    "![](volcanic_island.jpg)"
   ]
  },
  {
   "cell_type": "markdown",
   "metadata": {},
   "source": [
    "Essa ilha possui dois grupos de espécies de tentilhões dominantes, o _Geospiza fortis_ (imagem superior) e _Geospiza scandens_ (imagem inferior). "
   ]
  },
  {
   "cell_type": "markdown",
   "metadata": {},
   "source": [
    "![](birds.jpg)"
   ]
  },
  {
   "cell_type": "markdown",
   "metadata": {},
   "source": [
    "Os Grant tem monitorado a população desses pássaros todo ano, marcando-os, fazendo medições fisiológicas, coletando amostras para sequenciamento genético e etc.\n",
    "\n",
    "Em 2014 eles publicaram um livro entitulado \"40 anos de evolução: tentilhões de Darwin na ilha de Daphne Major\". Eles generosamente disponibilizaram os dados no repositório de dados da Dryad Digital (<https://datadryad.org/resource/doi:10.5061/dryad.g6g3h>). Esse data set é bem interessante para estudos e/ou trabalhos em data science e inferência estatística relacionados a evolução.\n",
    "\n",
    "Utilizarei as medidas do comprimento e profundidade do bico levantado pelos Grant."
   ]
  },
  {
   "cell_type": "markdown",
   "metadata": {},
   "source": [
    "![](birds2.jpg)"
   ]
  },
  {
   "cell_type": "markdown",
   "metadata": {},
   "source": [
    "Irei considerar nesse estudo aspectos da geometria do bico desses pássaros, incluindo como eles variaram ao longo do tempo para cada espécie, e de pais para filhos."
   ]
  },
  {
   "cell_type": "code",
   "execution_count": 1,
   "metadata": {},
   "outputs": [],
   "source": [
    "# bibliotecas necessárias\n",
    "import pandas as pd\n",
    "import numpy as np\n",
    "import seaborn as sns\n",
    "import matplotlib.pyplot as plt"
   ]
  },
  {
   "cell_type": "markdown",
   "metadata": {},
   "source": [
    "# Parte 1\n",
    "\n",
    "A primeira parte do presente estudo serão utilizados os dados da espécie _G. scandens_, e terá a seguinte ordem:\n",
    "\n",
    "1.1) _EDA das profundidades de bico entre 1975 e 2012_: a primeira etapa da análise desses dados será investigar como a profundidade dos bicos da _Geospiza scandens_ tem mudado ao longo do tempo, serão utilizados os dados de 1975 e 2012; \n",
    "\n",
    "1.2) _Estimação dos parâmetros da média de profundidade dos bicos_: serão estimados os parâmetros, com intervalo de confiança, com a média da profundidade dos bicos em seus respectivos anos;\n",
    "\n",
    "1.3) _Teste de hipótese - os bicos ficaram mais profundos com o tempo?_: e por fim será feito um teste de hipótese para verificar se a média da profundidade dos bicos mudaram de 1975 para 2012;"
   ]
  },
  {
   "cell_type": "markdown",
   "metadata": {},
   "source": [
    "## 1.1) EDA de profundidades de bico dos tentilhões de Darwin\n",
    "Irei verificar como a profundidade do bico (a distância de cima para baixo de um bico fechado) da espécie de tentilhão _Geospiza scandens_ mudou ao longo do tempo. \n",
    "\n",
    "Os Grants notaram algumas mudanças na geometria dos bicos, em função dos tipos de sementes disponíveis na ilha, e também notaram que haviam alguns cruzamentos com outras espécies principais em Daphne Major, _Geospiza fortis_. Esses efeitos podem ter levado a mudanças nas espécies ao longo do tempo.\n",
    "\n",
    "A seguir examinarei a profundidade do bico de _G. scandens_ em Daphne Major em 1975 e em 2012."
   ]
  },
  {
   "cell_type": "code",
   "execution_count": 2,
   "metadata": {},
   "outputs": [
    {
     "name": "stdout",
     "output_type": "stream",
     "text": [
      "Index(['band', 'species', 'Beak length, mm', 'Beak depth, mm'], dtype='object')\n"
     ]
    }
   ],
   "source": [
    "finch_beaks_1975 = pd.read_csv('finch_beaks_1975.csv')\n",
    "print(finch_beaks_1975.columns)\n",
    "bd_1975 = np.array(finch_beaks_1975['Beak depth, mm'][finch_beaks_1975.species == 'scandens'])"
   ]
  },
  {
   "cell_type": "code",
   "execution_count": 3,
   "metadata": {},
   "outputs": [
    {
     "name": "stdout",
     "output_type": "stream",
     "text": [
      "Index(['band', 'species', 'blength', 'bdepth'], dtype='object')\n"
     ]
    }
   ],
   "source": [
    "finch_beaks_2012 = pd.read_csv('finch_beaks_2012.csv')\n",
    "print(finch_beaks_2012.columns)\n",
    "bd_2012 = np.array(finch_beaks_2012['bdepth'][finch_beaks_2012.species == 'scandens'])"
   ]
  },
  {
   "cell_type": "code",
   "execution_count": 4,
   "metadata": {},
   "outputs": [
    {
     "data": {
      "image/png": "[encoded data removed]",
      "text/plain": [
       "<Figure size 432x288 with 1 Axes>"
      ]
     },
     "metadata": {
      "needs_background": "light"
     },
     "output_type": "display_data"
    }
   ],
   "source": [
    "_ = plt.hist(bd_2012, label='2012')\n",
    "_ = plt.hist(bd_1975, label='1975')\n",
    "_ = plt.xlabel('Profundidade do bico (mm)')\n",
    "plt.grid()\n",
    "plt.legend()\n",
    "plt.show()"
   ]
  },
  {
   "cell_type": "markdown",
   "metadata": {},
   "source": [
    "### 1.1.1) ECDFs de profundidades de bico\n",
    "Plotando as ECDFs para as medições de profundidade de bico de 1975 e 2012 no mesmo gráfico.\n",
    "\n",
    "As profundidades dos bicos dos respectivos anos foram armazenadas nas arrays NumPy bd_1975 e bd_2012."
   ]
  },
  {
   "cell_type": "code",
   "execution_count": 5,
   "metadata": {},
   "outputs": [],
   "source": [
    "# função distribuição de probabilidade acumulada empirica (ECDF)\n",
    "def ecdf(data):\n",
    "    \"\"\"Computando a ECDF para array de uma dimensão.\"\"\"\n",
    "    # número de pontos: n\n",
    "    n = len(data)\n",
    "\n",
    "    # ordenando os dados\n",
    "    x = np.sort(data)\n",
    "\n",
    "    # ECDF\n",
    "    y = np.arange(1, n+1) / n\n",
    "\n",
    "    return x, y"
   ]
  },
  {
   "cell_type": "code",
   "execution_count": 6,
   "metadata": {},
   "outputs": [
    {
     "data": {
      "image/png": "[encoded data removed]",
      "text/plain": [
       "<Figure size 432x288 with 1 Axes>"
      ]
     },
     "metadata": {
      "needs_background": "light"
     },
     "output_type": "display_data"
    }
   ],
   "source": [
    "# computando as ECDFs\n",
    "x_1975, y_1975 = ecdf(bd_1975)\n",
    "x_2012, y_2012 = ecdf(bd_2012)\n",
    "\n",
    "# plotando as ECDFs\n",
    "_ = plt.plot(x_1975, y_1975, marker='.', linestyle='none', alpha=0.5)\n",
    "_ = plt.plot(x_2012, y_2012, marker='.', linestyle='none', alpha=0.5)\n",
    "plt.margins(0.02)\n",
    "_ = plt.xlabel('Profundidade do bico (mm)')\n",
    "_ = plt.ylabel('ECDF')\n",
    "_ = plt.legend(('1975', '2012'), loc='lower right')\n",
    "plt.grid()\n",
    "plt.show()"
   ]
  },
  {
   "cell_type": "markdown",
   "metadata": {},
   "source": [
    "## 1.2) Estimação de parâmetros de profundidades de bico\n",
    "Agora vou estimar a diferença da profundidade média do bico das amostras de _G. scandens_ entre 1975 e 2012, e vou verificar o intervalo de confiança de 95%."
   ]
  },
  {
   "cell_type": "code",
   "execution_count": 7,
   "metadata": {},
   "outputs": [],
   "source": [
    "# função para gerar reamostragens de umarray de 1d\n",
    "def bootstrap_replicate_1d(data, func):\n",
    "    return func(np.random.choice(data, size=len(data)))"
   ]
  },
  {
   "cell_type": "code",
   "execution_count": 8,
   "metadata": {},
   "outputs": [],
   "source": [
    "# função para gerar reamostragens dos dados \n",
    "def draw_bs_reps(data, func, size=1):\n",
    "    \"\"\"Bootstrap.\"\"\"\n",
    "\n",
    "    # array vazia para popular: bs_replicates\n",
    "    bs_replicates = np.empty(size)\n",
    "\n",
    "    # gerando réplicas\n",
    "    for i in range(size):\n",
    "        bs_replicates[i] = bootstrap_replicate_1d(data, func)\n",
    "\n",
    "    return bs_replicates"
   ]
  },
  {
   "cell_type": "code",
   "execution_count": 9,
   "metadata": {},
   "outputs": [
    {
     "name": "stdout",
     "output_type": "stream",
     "text": [
      "difference of means = 0.22622047244094645 mm\n",
      "95% confidence interval = [0.0582452  0.39416601] mm\n"
     ]
    }
   ],
   "source": [
    "# computando a diferença das médias amostrais: mean_diff\n",
    "mean_diff = np.mean(bd_2012) - np.mean(bd_1975)\n",
    "\n",
    "# gerando réplicas de reamostragens das médias\n",
    "bs_replicates_1975 = draw_bs_reps(bd_1975, np.mean, 10000)\n",
    "bs_replicates_2012 = draw_bs_reps(bd_2012, np.mean, 10000)\n",
    "\n",
    "# computando diferença das médias amostrais: bs_diff_replicates\n",
    "bs_diff_replicates = bs_replicates_2012 - bs_replicates_1975\n",
    "\n",
    "# computando intevalo de confiança de 95%: conf_int\n",
    "conf_int = np.percentile(bs_diff_replicates, [2.5, 97.5])\n",
    "\n",
    "# visualizando os resultados\n",
    "print('difference of means =', mean_diff, 'mm')\n",
    "print('95% confidence interval =', conf_int, 'mm')"
   ]
  },
  {
   "cell_type": "markdown",
   "metadata": {},
   "source": [
    "## 1.3) Teste de hipótese: os bicos são mais profundos em 2012?\n",
    "A ECDF e a determinação do intervalo de confiança deixam bem claro que os bicos de _G. scandens_ em Daphne Major ficaram mais profundos. Mas é possível que esse efeito seja devido apenas ao acaso? Em outras palavras, qual é a probabilidade de obtermos a diferença observada na profundidade média do bico se as médias forem as mesmas?\n",
    "\n",
    "Aqui é bom ser cuidadoso! A hipótese que estamos testando não é que as profundidades dos bicos venham da mesma distribuição. Para isso, poderíamos usar um teste de permutação. A hipótese é que os meios são iguais. Para executar esse teste de hipótese, precisamos mudar os dois conjuntos de dados para que eles tenham a mesma média, e em seguida, usar a amostragem de autoinicialização para calcular a diferença de médias."
   ]
  },
  {
   "cell_type": "code",
   "execution_count": 10,
   "metadata": {},
   "outputs": [
    {
     "name": "stdout",
     "output_type": "stream",
     "text": [
      "p = 0.0019\n"
     ]
    }
   ],
   "source": [
    "# comoutando a média do data set combinado: combined_mean\n",
    "combined_mean = np.mean(np.concatenate((bd_1975, bd_2012)))\n",
    "\n",
    "# shiftando as amostras\n",
    "bd_1975_shifted = bd_1975 - np.mean(bd_1975) + combined_mean\n",
    "bd_2012_shifted = bd_2012 - np.mean(bd_2012) + combined_mean\n",
    "\n",
    "# obtendo as réplicas reamostradas dos dados shiftados\n",
    "bs_replicates_1975 = draw_bs_reps(bd_1975_shifted, np.mean, 10000)\n",
    "bs_replicates_2012 = draw_bs_reps(bd_2012_shifted, np.mean, 10000)\n",
    "\n",
    "# computando as réplicas das diferenças das médias: bs_diff_replicates\n",
    "bs_diff_replicates = bs_replicates_2012 - bs_replicates_1975\n",
    "\n",
    "# computando o p-valor: p\n",
    "p = np.sum(bs_diff_replicates >= mean_diff) / len(bs_diff_replicates)\n",
    "\n",
    "# visualizando o p-valor\n",
    "print('p =', p)"
   ]
  },
  {
   "cell_type": "markdown",
   "metadata": {},
   "source": [
    "O p-valor é de 0,003, o que sugere que há uma diferença estatisticamente significativa. Mas lembre-se: é muito importante saber o quão diferentes eles são! Anteriormente obtive uma diferença de 0,2 mm entre as médias. É importante combinar isso com a significância estatística. Mudar 0,2mm em 37 anos é substancial para os padrões evolutivos. Se continuasse mudando nesse ritmo, a profundidade do bico dobraria em apenas 400 anos!\n",
    "\n",
    "Bom, podemos concluir que a profundidade do bico da espécie  _G. scandens_ mudou nos últimos 37 anos. E segundo os pesquisadores existem poucas hipóteses que levaram à esse fato, uma delas é devido a uma seca que ocorreu entre 1976 e 1977, no qual ocasionou a morte de plantas na ilha que produziam sementes pequenas. "
   ]
  },
  {
   "cell_type": "code",
   "execution_count": 11,
   "metadata": {},
   "outputs": [
    {
     "data": {
      "text/html": [
       "<div>\n",
       "<style scoped>\n",
       "    .dataframe tbody tr th:only-of-type {\n",
       "        vertical-align: middle;\n",
       "    }\n",
       "\n",
       "    .dataframe tbody tr th {\n",
       "        vertical-align: top;\n",
       "    }\n",
       "\n",
       "    .dataframe thead th {\n",
       "        text-align: right;\n",
       "    }\n",
       "</style>\n",
       "<table border=\"1\" class=\"dataframe\">\n",
       "  <thead>\n",
       "    <tr style=\"text-align: right;\">\n",
       "      <th></th>\n",
       "      <th>year</th>\n",
       "      <th>seed_size</th>\n",
       "      <th>mass_seed</th>\n",
       "    </tr>\n",
       "  </thead>\n",
       "  <tbody>\n",
       "    <tr>\n",
       "      <th>0</th>\n",
       "      <td>1976</td>\n",
       "      <td>small</td>\n",
       "      <td>680</td>\n",
       "    </tr>\n",
       "    <tr>\n",
       "      <th>1</th>\n",
       "      <td>1976</td>\n",
       "      <td>large</td>\n",
       "      <td>880</td>\n",
       "    </tr>\n",
       "    <tr>\n",
       "      <th>2</th>\n",
       "      <td>1977</td>\n",
       "      <td>small</td>\n",
       "      <td>98</td>\n",
       "    </tr>\n",
       "    <tr>\n",
       "      <th>3</th>\n",
       "      <td>19977</td>\n",
       "      <td>large</td>\n",
       "      <td>900</td>\n",
       "    </tr>\n",
       "  </tbody>\n",
       "</table>\n",
       "</div>"
      ],
      "text/plain": [
       "    year seed_size  mass_seed\n",
       "0   1976     small        680\n",
       "1   1976     large        880\n",
       "2   1977     small         98\n",
       "3  19977     large        900"
      ]
     },
     "execution_count": 11,
     "metadata": {},
     "output_type": "execute_result"
    }
   ],
   "source": [
    "seeds = pd.read_csv('small_seeds.csv')\n",
    "seeds"
   ]
  },
  {
   "cell_type": "markdown",
   "metadata": {},
   "source": [
    "E sementes grandes requer bicos profundos para quebrar elas, então pássaros com bicos maiores sobreviveram e se reproduziram.\n",
    "\n",
    "Se esse for o caso, aí está a razão no qual o comprimento do bico também deve mudar ao longo do tempo, e se o comprimento e a profundidade do bico muda com a mesma taxa, o bico terá o mesmo formato, porém maior. Porém se o comprimento e a profundidade do bico mudam de maneira diferente, o formato do bico também muda.\n",
    "\n",
    "Na parte 2 desse estudo irei investigar como o comprimento e a profundidade do bico mudam juntas."
   ]
  },
  {
   "cell_type": "markdown",
   "metadata": {},
   "source": [
    "# Parte 2"
   ]
  },
  {
   "cell_type": "markdown",
   "metadata": {},
   "source": [
    "## 2.1) EDA do comprimento dos bicos"
   ]
  },
  {
   "cell_type": "markdown",
   "metadata": {},
   "source": [
    "Os dados do comprimento do bico serão armazenados como bl_1975 e bl_2012, novamente com unidades de milímetros (mm). Farei gráficos de dispersão da profundidade do bico (eixo y) versus comprimento do bico (eixo x) para as amostras de 1975 e 2012."
   ]
  },
  {
   "cell_type": "code",
   "execution_count": 12,
   "metadata": {},
   "outputs": [],
   "source": [
    "bl_1975 = np.array(finch_beaks_1975['Beak length, mm'][finch_beaks_1975.species == 'scandens'])\n",
    "bl_2012 = np.array(finch_beaks_2012['blength'][finch_beaks_2012.species == 'scandens'])"
   ]
  },
  {
   "cell_type": "code",
   "execution_count": 13,
   "metadata": {},
   "outputs": [
    {
     "data": {
      "image/png": "[encoded data removed]",
      "text/plain": [
       "<Figure size 432x288 with 1 Axes>"
      ]
     },
     "metadata": {
      "needs_background": "light"
     },
     "output_type": "display_data"
    }
   ],
   "source": [
    "_ = plt.plot(bl_1975, bd_1975, marker='.', linestyle='None', color='blue', alpha=0.5)\n",
    "_ = plt.plot(bl_2012, bd_2012, marker='.', linestyle='None', color='red', alpha=0.5)\n",
    "_ = plt.xlabel('Comprimento do bico (mm)')\n",
    "_ = plt.ylabel('Profundidade do bico (mm)')\n",
    "_ = plt.legend(('1975', '2012'), loc='upper left')\n",
    "plt.grid()\n",
    "plt.show()"
   ]
  },
  {
   "cell_type": "markdown",
   "metadata": {},
   "source": [
    "## 2.2) Regressão linear\n",
    "Vou executar uma regressão linear para os dados de 1975 e 2012. Em seguida, farei estimativas de autoinicialização dos pares para os parâmetros de regressão. Computarei os intervalos de confiança de 95% na inclinação e interceptação da linha de regressão."
   ]
  },
  {
   "cell_type": "code",
   "execution_count": 14,
   "metadata": {},
   "outputs": [],
   "source": [
    "# função para obtenção de pares de reamostragem\n",
    "def draw_bs_pairs_linreg(x, y, size=1):\n",
    "    \"\"\"Perform pairs bootstrap for linear regression.\"\"\"\n",
    "\n",
    "    # Set up dos arrays de índices da amostra: inds\n",
    "    inds = np.arange(len(x))\n",
    "\n",
    "    # objetos vazios para receber as reamostragens: bs_slope_reps, bs_intercept_reps\n",
    "    bs_slope_reps = np.empty(size)\n",
    "    bs_intercept_reps = np.empty(size)\n",
    "\n",
    "    # gerando as reamostragens\n",
    "    for i in range(size):\n",
    "        bs_inds = np.random.choice(inds, size=len(inds))\n",
    "        bs_x, bs_y = x[bs_inds], y[bs_inds]\n",
    "        bs_slope_reps[i], bs_intercept_reps[i] = np.polyfit(bs_x, bs_y, 1)\n",
    "\n",
    "    return bs_slope_reps, bs_intercept_reps"
   ]
  },
  {
   "cell_type": "code",
   "execution_count": 15,
   "metadata": {},
   "outputs": [
    {
     "name": "stdout",
     "output_type": "stream",
     "text": [
      "1975: slope = 0.4652051691605937 conf int = [0.33164597 0.58627254]\n",
      "1975: intercept = 2.3908752365842267 conf int = [0.68776153 4.26611198]\n",
      "2012: slope = 0.462630358835313 conf int = [0.34037196 0.60492955]\n",
      "2012: intercept = 2.9772474982360198 conf int = [1.13189456 4.6385175 ]\n"
     ]
    }
   ],
   "source": [
    "# computando regressão linear\n",
    "slope_1975, intercept_1975 = np.polyfit(bl_1975, bd_1975, 1)\n",
    "slope_2012, intercept_2012 = np.polyfit(bl_2012, bd_2012, 1)\n",
    "\n",
    "# reamostragens para regressão linear\n",
    "bs_slope_reps_1975, bs_intercept_reps_1975 = draw_bs_pairs_linreg(bl_1975, bd_1975, 1000)\n",
    "bs_slope_reps_2012, bs_intercept_reps_2012 = draw_bs_pairs_linreg(bl_2012, bd_2012, 1000)\n",
    "\n",
    "# computando intervalos de confiança para os betas\n",
    "slope_conf_int_1975 = np.percentile(bs_slope_reps_1975, [2.5, 97.5])\n",
    "slope_conf_int_2012 = np.percentile(bs_slope_reps_2012, [2.5, 97.5])\n",
    "\n",
    "intercept_conf_int_1975 = np.percentile(bs_intercept_reps_1975, [2.5, 97.5])\n",
    "intercept_conf_int_2012 = np.percentile(bs_intercept_reps_2012, [2.5, 97.5])\n",
    "\n",
    "# visualizando os resultados\n",
    "print('1975: slope =', slope_1975, 'conf int =', slope_conf_int_1975)\n",
    "print('1975: intercept =', intercept_1975, 'conf int =', intercept_conf_int_1975)\n",
    "print('2012: slope =', slope_2012, 'conf int =', slope_conf_int_2012)\n",
    "print('2012: intercept =', intercept_2012, 'conf int =', intercept_conf_int_2012)"
   ]
  },
  {
   "cell_type": "markdown",
   "metadata": {},
   "source": [
    "### 2.2.1) Exibindo os resultados da regressão linear\n",
    "Exibirei aqui os resultados de regressão linear no gráfico de dispersão. Para fazer isso, usarei as primeiras 100 amostras das reamostragens (armazenadas nos argumentos bs_slope_reps_1975, bs_intercept_reps_1975, bs_slope_reps_2012 e bs_intercept_reps_2012) e plotarei as linhas com argumentos das palavras-chave alfa = 0.2 e largura de linha = 0.5 para plt.plot()."
   ]
  },
  {
   "cell_type": "code",
   "execution_count": 16,
   "metadata": {},
   "outputs": [
    {
     "data": {
      "image/png": "[encoded data removed]",
      "text/plain": [
       "<Figure size 432x288 with 1 Axes>"
      ]
     },
     "metadata": {
      "needs_background": "light"
     },
     "output_type": "display_data"
    }
   ],
   "source": [
    "# gráficos de dispersão\n",
    "_ = plt.plot(bl_1975, bd_1975, marker='.', linestyle='none', color='blue', alpha=0.5)\n",
    "_ = plt.plot(bl_2012, bd_2012, marker='.',linestyle='none', color='red', alpha=0.5)\n",
    "_ = plt.xlabel('Comprimento do bico (mm)')\n",
    "_ = plt.ylabel('Profundidade do bico (mm)')\n",
    "_ = plt.legend(('1975', '2012'), loc='upper left')\n",
    "\n",
    "# gerando valores de reamostragem das linhas: x\n",
    "x = np.array([10, 17])\n",
    "\n",
    "# plotando as linhas reamostradas\n",
    "for i in range(100):\n",
    "    plt.plot(x, bs_slope_reps_1975[i] * x + bs_intercept_reps_1975[i], linewidth=0.5, alpha=0.2, color='blue')\n",
    "    plt.plot(x, bs_slope_reps_2012[i] * x + bs_intercept_reps_2012[i], linewidth=0.5, alpha=0.2, color='red')\n",
    "\n",
    "plt.grid()\n",
    "plt.show()"
   ]
  },
  {
   "cell_type": "markdown",
   "metadata": {},
   "source": [
    "## 2.3) Proporção do comprimento do bico com relação a profundidade\n",
    "As regressões lineares mostraram informações interessantes sobre a geometria do bico. A inclinação era a mesma em 1975 e 2012, sugerindo que para cada milímetro ganho em comprimento de bico, as aves ganhavam cerca de meio milímetro de profundidade nos dois anos. No entanto, se estivermos interessados na forma do bico, queremos comparar a proporção entre o comprimento e a profundidade do bico. Vamos fazer essa comparação."
   ]
  },
  {
   "cell_type": "code",
   "execution_count": 17,
   "metadata": {},
   "outputs": [
    {
     "name": "stdout",
     "output_type": "stream",
     "text": [
      "1975: mean ratio = 1.5788823771858533 conf int = [1.55700493 1.60092345]\n",
      "2012: mean ratio = 1.4658342276847767 conf int = [1.44476433 1.48738357]\n"
     ]
    }
   ],
   "source": [
    "# computando a taxa de comprimento/profundidade dos bicos\n",
    "ratio_1975 = bl_1975 / bd_1975\n",
    "ratio_2012 = bl_2012 / bd_2012\n",
    "\n",
    "# computando as médias\n",
    "mean_ratio_1975 = np.mean(ratio_1975)\n",
    "mean_ratio_2012 = np.mean(ratio_2012)\n",
    "\n",
    "# obtendo as réplicas das reamostragens das médias\n",
    "bs_replicates_1975 = draw_bs_reps(ratio_1975, np.mean, size=10000)\n",
    "bs_replicates_2012 = draw_bs_reps(ratio_2012, np.mean, size=10000)\n",
    "\n",
    "# computando o intervalo de confiança de 99%\n",
    "conf_int_1975 = np.percentile(bs_replicates_1975, [0.5, 99.5])\n",
    "conf_int_2012 = np.percentile(bs_replicates_2012, [0.5, 99.5])\n",
    "\n",
    "# visualizando os resultados\n",
    "print('1975: mean ratio =', mean_ratio_1975, 'conf int =', conf_int_1975)\n",
    "print('2012: mean ratio =', mean_ratio_2012,'conf int =', conf_int_2012)"
   ]
  },
  {
   "cell_type": "markdown",
   "metadata": {},
   "source": [
    "Calculei a relação comprimento médio/profundidade do bico com intervalos de confiança de 99% para 1975 e 2012. Os resultados desse cálculo são mostrados acima. Além desses resultados, o que você diria sobre a proporção entre o comprimento do bico e a profundidade?\n",
    "\n",
    "A resposta para essa pergunta é que é impossível dizer se esse é um efeito real ou apenas devido ao ruído sem calcular o p-valor."
   ]
  },
  {
   "cell_type": "markdown",
   "metadata": {},
   "source": [
    "# Parte 3\n",
    "\n",
    "E a pergunta continua: quais são as causas do crescimento dos bicos da espécia _G. scandens_ ao longo do tempo?\n",
    "\n",
    "Eu mencionei a pressão seletiva causada pela seca. Porém os pesquisadores também observaram que alguns pássaros tinham bicos grandes mesmo antes da seca. Uma explicação interessante é que a espécia _G. scandens_ estariam acasalando com outra espécie da ilha, a _G. fortis_.\n",
    "\n",
    "Esses pássaros híbridos acasalam com os da espécie _G. scandens_ em um processo no qual é chamado hibridização introgressiva, no qual traz características da espécie _G. fortis_ para a _G. scandens_!\n",
    "\n",
    "Para avaliar a viabilidade dessa explicação, precisamos saber quão fortemente os traços dos pais são transmitidos para os filhos."
   ]
  },
  {
   "cell_type": "markdown",
   "metadata": {},
   "source": [
    "## 3.1) EDA da hereditariedade\n",
    "A array bd_parent_scandens contém a profundidade média do bico (em mm) de dois progenitores da espécie _G. scandens_. A array bd_offspring_scandens contém a profundidade média do bico da prole dos respectivos pais. As arrays bd_parent_fortis e bd_offspring_fortis contêm as mesmas informações sobre medidas de aves de _G. fortis_.\n",
    "\n",
    "Farei um gráfico de dispersão da profundidade média do bico da prole (eixo y) versus a profundidade média do bico parental (eixo x) para ambas as espécies."
   ]
  },
  {
   "cell_type": "code",
   "execution_count": 18,
   "metadata": {},
   "outputs": [],
   "source": [
    "bd_parent_fortis = pd.read_csv('bd_parent_fortis.csv')\n",
    "bd_parent_fortis = np.array(bd_parent_fortis.bd_parent_fortis)\n",
    "\n",
    "bd_offspring_fortis = pd.read_csv('bd_offspring_fortis.csv')\n",
    "bd_offspring_fortis = np.array(bd_offspring_fortis.bd_offspring_fortis)\n",
    "\n",
    "bd_parent_scandens = pd.read_csv('bd_parent_scandens.csv')\n",
    "bd_parent_scandens = np.array(bd_parent_scandens.bd_parent_scandens)\n",
    "\n",
    "bd_offspring_scandens = pd.read_csv('bd_offspring_scandens.csv')\n",
    "bd_offspring_scandens = np.array(bd_offspring_scandens.bd_offspring_scandens)"
   ]
  },
  {
   "cell_type": "code",
   "execution_count": 19,
   "metadata": {},
   "outputs": [
    {
     "data": {
      "image/png": "[encoded data removed]",
      "text/plain": [
       "<Figure size 432x288 with 1 Axes>"
      ]
     },
     "metadata": {
      "needs_background": "light"
     },
     "output_type": "display_data"
    }
   ],
   "source": [
    "_ = plt.plot(bd_parent_fortis, bd_offspring_fortis, marker='.', linestyle='none', color='blue', alpha=0.5)\n",
    "_ = plt.plot(bd_parent_scandens, bd_offspring_scandens, marker='.', linestyle='none', color='red', alpha=0.5)\n",
    "_ = plt.xlabel('Prof. do pico dos pais (mm)')\n",
    "_ = plt.ylabel('Prof. do bico dos filhos (mm)')\n",
    "_ = plt.legend(('G. fortis', 'G. scandens'), loc='lower right')\n",
    "plt.grid()\n",
    "plt.show()"
   ]
  },
  {
   "cell_type": "markdown",
   "metadata": {},
   "source": [
    "Parece que existe uma correlação mais forte em _G. fortis_ do que em _G. scandens_. Isso sugere que a profundidade do bico é mais fortemente herdada em _G. fortis_. Quantificarei essa correlação a seguir."
   ]
  },
  {
   "cell_type": "markdown",
   "metadata": {},
   "source": [
    "## 3.2) Correlação de dados dos filhos e dos pais\n",
    "Em um esforço para quantificar a correlação entre a profundidade da prole e o bico dos pais, vou calcular o coeficiente de correlação de Pearson, entre pais e filhos. Para obter intervalos de confiança disso farei reamostragems dos pares.\n",
    "\n",
    "Criarei uma nova função que realiza as reamostragens de pares e calcula uma única estatística nas amostras de pares definidas. A estatística de interesse é calculada chamando func(bs_x, bs_y)."
   ]
  },
  {
   "cell_type": "code",
   "execution_count": 20,
   "metadata": {},
   "outputs": [],
   "source": [
    "def draw_bs_pairs(x, y, func, size=1):\n",
    "    \"\"\"Realiza a reamostragem de pares.\"\"\"\n",
    "\n",
    "    # Set up das arrays dos índices das amostras: inds\n",
    "    inds = np.arange(len(x))\n",
    "\n",
    "    # objeto vazio para receber as reamostragens: bs_replicates\n",
    "    bs_replicates = np.empty(size)\n",
    "\n",
    "    # gerando reamostragens\n",
    "    for i in range(size):\n",
    "        bs_inds = np.random.choice(inds, len(inds))\n",
    "        bs_x, bs_y = x[bs_inds], y[bs_inds]\n",
    "        bs_replicates[i] = func(bs_x, bs_y)\n",
    "\n",
    "    return bs_replicates"
   ]
  },
  {
   "cell_type": "markdown",
   "metadata": {},
   "source": [
    "O coeficiente de correlação de Pearson parece ser uma medida útil de quão fortemente a profundidade de bico dos pais é herdada por seus filhos. Calcularei o coeficiente de correlação de Pearson entre as profundidades de bico dos pais e da prole para _G. scandens_. Farei o mesmo para _G. fortis_. Em seguida, usarei as funções criadas para calcular um intervalo de confiança de 95% usando o bootstrap dos pares."
   ]
  },
  {
   "cell_type": "code",
   "execution_count": 21,
   "metadata": {},
   "outputs": [],
   "source": [
    "# função para obtenção do coeficiente de Pearson\n",
    "def pearson_r(x, y):\n",
    "    \"\"\"Computa o coeficiente da correlação de Pearson entre duas arrays.\"\"\"\n",
    "    # computando a matrix de correlação: corr_mat\n",
    "    corr_mat = np.corrcoef(x, y)\n",
    "\n",
    "    return corr_mat[0,1]"
   ]
  },
  {
   "cell_type": "code",
   "execution_count": 22,
   "metadata": {},
   "outputs": [
    {
     "name": "stdout",
     "output_type": "stream",
     "text": [
      "G. scandens: 0.4117063629401258 [0.26292625 0.53757353]\n",
      "G. fortis: 0.7283412395518486 [0.67121425 0.77996071]\n"
     ]
    }
   ],
   "source": [
    "# computando os coeficientes de correlação de Pearson\n",
    "r_scandens = pearson_r(bd_parent_scandens, bd_offspring_scandens)\n",
    "r_fortis = pearson_r(bd_parent_fortis, bd_offspring_fortis)\n",
    "\n",
    "# obtendo 1.000 reamostragens do coef. de Pearson\n",
    "bs_replicates_scandens = draw_bs_pairs(bd_parent_scandens, bd_offspring_scandens, pearson_r, size=1000)\n",
    "bs_replicates_fortis = draw_bs_pairs(bd_parent_fortis, bd_offspring_fortis, pearson_r, size=1000)\n",
    "\n",
    "# computando o intervalo de confiança de 95%\n",
    "conf_int_scandens = np.percentile(bs_replicates_scandens, [2.5, 97.5])\n",
    "conf_int_fortis = np.percentile(bs_replicates_fortis, [2.5, 97.5])\n",
    "\n",
    "# visualizando resultados\n",
    "print('G. scandens:', r_scandens, conf_int_scandens)\n",
    "print('G. fortis:', r_fortis, conf_int_fortis)"
   ]
  },
  {
   "cell_type": "markdown",
   "metadata": {},
   "source": [
    "É evidente pelos intervalos de confiança, que a profundidade de bico da prole dos pais de _G. fortis_ está mais fortemente correlacionada com a prole comparada a espécia _G. scandens_."
   ]
  },
  {
   "cell_type": "markdown",
   "metadata": {},
   "source": [
    "## 3.3) Medindo a hereditariedade\n",
    "Lembre-se de que o coeficiente de correlação de Pearson é a razão da covariância para a média geométrica das variâncias dos dois conjuntos de dados. Essa é uma medida da correlação entre pais e filhos, mas pode não ser a melhor estimativa de herdabilidade. Se pararmos e pensarmos, faz mais sentido definir hereditariedade como a razão da covariância entre pai e filho e a variação dos pais sozinhos. A seguir vou estimar a hereditariedade e executar um cálculo de bootstrap de pares para obter o intervalo de confiança de 95%.\n",
    "\n",
    "Lembrando que na inferência estatística (e a análise de dados em geral) é necessário pensar cuidadosamente sobre as perguntas que deseja responder com seus dados e analisá-las adequadamente. Se você estiver interessado em saber quais são as características de hereditariedade, a quantidade que definimos como hereditariedade é mais adequada que a estatística pronta para uso, no caso o coeficiente de correlação de Pearson."
   ]
  },
  {
   "cell_type": "code",
   "execution_count": 23,
   "metadata": {},
   "outputs": [],
   "source": [
    "def heritability(parents, offspring):\n",
    "    \"\"\"Computa a herdabilidade.\"\"\"\n",
    "    covariance_matrix = np.cov(parents, offspring)\n",
    "    return covariance_matrix[0,1] / covariance_matrix[0,0]"
   ]
  },
  {
   "cell_type": "code",
   "execution_count": 24,
   "metadata": {},
   "outputs": [],
   "source": [
    "# computando a herdabilidade\n",
    "heritability_scandens = heritability(bd_parent_scandens, bd_offspring_scandens)\n",
    "heritability_fortis = heritability(bd_parent_fortis, bd_offspring_fortis)"
   ]
  },
  {
   "cell_type": "code",
   "execution_count": 25,
   "metadata": {},
   "outputs": [
    {
     "data": {
      "text/plain": [
       "array([ 8.3318,  8.4035,  8.5317,  8.7202,  8.7089,  8.7541,  8.773 ,\n",
       "        8.8107,  8.7919,  8.8069,  8.6523,  8.6146,  8.6938,  8.7127,\n",
       "        8.7466,  8.7504,  8.7805,  8.7428,  8.7164,  8.8032,  8.8258,\n",
       "        8.856 ,  8.9012,  8.9125,  8.8635,  8.8258,  8.8522,  8.8974,\n",
       "        8.9427,  8.9879,  8.9615,  8.9238,  8.9351,  9.0143,  9.0558,\n",
       "        9.0596,  8.9917,  8.905 ,  8.9314,  8.9465,  8.9879,  8.9804,\n",
       "        9.0219,  9.052 ,  9.0407,  9.0407,  8.9955,  8.9992,  8.9992,\n",
       "        9.0747,  9.0747,  9.5385,  9.4781,  9.4517,  9.3537,  9.2707,\n",
       "        9.1199,  9.1689,  9.1425,  9.135 ,  9.1011,  9.1727,  9.2217,\n",
       "        9.2255,  9.2821,  9.3235,  9.3198,  9.3198,  9.3198,  9.3273,\n",
       "        9.3725,  9.3989,  9.4253,  9.4593,  9.4442,  9.4291,  9.2632,\n",
       "        9.2293,  9.1878,  9.1425,  9.1275,  9.1802,  9.1765,  9.2481,\n",
       "        9.2481,  9.1991,  9.1689,  9.1765,  9.2406,  9.3198,  9.3235,\n",
       "        9.1991,  9.2971,  9.2443,  9.316 ,  9.2934,  9.3914,  9.3989,\n",
       "        9.5121,  9.6176,  9.5535,  9.4668,  9.3725,  9.3348,  9.3763,\n",
       "        9.3839,  9.4216,  9.4065,  9.3348,  9.4442,  9.4367,  9.5083,\n",
       "        9.448 ,  9.4781,  9.595 ,  9.6101,  9.5686,  9.6365,  9.7119,\n",
       "        9.8213,  9.825 ,  9.7609,  9.6516,  9.5988,  9.546 ,  9.6516,\n",
       "        9.7572,  9.8854, 10.0023,  9.3914])"
      ]
     },
     "execution_count": 25,
     "metadata": {},
     "output_type": "execute_result"
    }
   ],
   "source": [
    "bd_parent_scandens"
   ]
  },
  {
   "cell_type": "code",
   "execution_count": 26,
   "metadata": {},
   "outputs": [
    {
     "name": "stdout",
     "output_type": "stream",
     "text": [
      "G. scandens: 0.5485340868685982 [0.35456648 0.74376508]\n",
      "G. fortis: 0.7229051911438155 [0.64365325 0.79320498]\n"
     ]
    }
   ],
   "source": [
    "# obtendo 1.000 reamostragens\n",
    "replicates_scandens = draw_bs_pairs(bd_parent_scandens, bd_offspring_scandens, heritability, size=1000)\n",
    "replicates_fortis = draw_bs_pairs(bd_parent_fortis, bd_offspring_fortis, heritability, size=1000)\n",
    "\n",
    "# computando intervalo de confiança de 95%\n",
    "conf_int_scandens = np.percentile(replicates_scandens, [2.5, 97.5])\n",
    "conf_int_fortis = np.percentile(replicates_fortis, [2.5, 97.5])\n",
    "\n",
    "# visualizando resultados\n",
    "print('G. scandens:', heritability_scandens, conf_int_scandens)\n",
    "print('G. fortis:', heritability_fortis, conf_int_fortis)"
   ]
  },
  {
   "cell_type": "markdown",
   "metadata": {},
   "source": [
    "Novamente vemos que _G. fortis_ tem herdabilidade mais forte que _G. scandens_. Isto sugere que as características de _G. fortis_ podem ser fortemente incorporadas em _G. scandens_ por hibridização introgressiva."
   ]
  },
  {
   "cell_type": "markdown",
   "metadata": {},
   "source": [
    "## 3.4) A profundidade do bico é herdável para a espécie _G. scandens_?\n",
    "A herdabilidade da profundidade do bico em _G. scandens_ parece baixa. Pode ser que essa herdabilidade observada tenha sido alcançada apenas por acaso e a profundidade do bico não seja realmente hereditária na espécie. Para verificar isso, farei um teste de permutação de pares."
   ]
  },
  {
   "cell_type": "code",
   "execution_count": 27,
   "metadata": {},
   "outputs": [
    {
     "name": "stdout",
     "output_type": "stream",
     "text": [
      "p-val = 0.0\n"
     ]
    }
   ],
   "source": [
    "# array de réplicas de reamostragens vazias: perm_replicates\n",
    "perm_replicates = np.empty(10000)\n",
    "\n",
    "for i in range(10000):\n",
    "    # permutação das profundidades dos bicos dos parentes\n",
    "    bd_parent_permuted = np.random.permutation(bd_parent_scandens)\n",
    "    perm_replicates[i] = heritability(bd_parent_permuted,\n",
    "                                      bd_offspring_scandens)\n",
    "\n",
    "# computando o p-valor: p\n",
    "p = np.sum(perm_replicates >= heritability_scandens) / len(perm_replicates)\n",
    "\n",
    "# visualizando o p-valor\n",
    "print('p-val =', p)"
   ]
  },
  {
   "cell_type": "markdown",
   "metadata": {},
   "source": [
    "Obtivemos um p-valor igual a zero, o que significa que nenhum dos 10.000 pares de permutações que gerei tinha uma herdabilidade alta o suficiente para corresponder ao que foi observado. Isso sugere fortemente que a profundidade do bico é herdável em _G. scandens_, mas não tanto quanto em _G. fortis_."
   ]
  }
 ],
 "metadata": {
  "kernelspec": {
   "display_name": "Python 3",
   "language": "python",
   "name": "python3"
  },
  "language_info": {
   "codemirror_mode": {
    "name": "ipython",
    "version": 3
   },
   "file_extension": ".py",
   "mimetype": "text/x-python",
   "name": "python",
   "nbconvert_exporter": "python",
   "pygments_lexer": "ipython3",
   "version": "3.7.3"
  }
 },
 "nbformat": 4,
 "nbformat_minor": 2
}
